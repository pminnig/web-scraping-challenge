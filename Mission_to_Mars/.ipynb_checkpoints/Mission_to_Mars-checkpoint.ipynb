{
 "cells": [
  {
   "cell_type": "code",
   "execution_count": 1,
   "id": "8fd54c96-1069-4e85-a98a-fbd812c5c9ea",
   "metadata": {},
   "outputs": [],
   "source": [
    "# Dependecies\n",
    "from splinter import Browser\n",
    "from bs4 import BeautifulSoup\n",
    "import pandas as pd\n",
    "from webdriver_manager.chrome import ChromeDriverManager\n",
    "import requests"
   ]
  },
  {
   "cell_type": "code",
   "execution_count": 2,
   "id": "eae085d5-d2d8-4c35-9fc6-78fb87b19ecd",
   "metadata": {},
   "outputs": [],
   "source": [
    "# URL's we will be scraping\n",
    "redplanet_url = 'https://redplanetscience.com/'\n",
    "spaceimg_url = 'https://spaceimages-mars.com/'\n",
    "marsfact_url = 'https://galaxyfacts-mars.com/'\n",
    "hemisphere_url = 'https://marshemispheres.com/'"
   ]
  },
  {
   "cell_type": "code",
   "execution_count": 3,
   "id": "8dc8a06d-b1dc-4bd0-bf3d-a45556d13a48",
   "metadata": {},
   "outputs": [],
   "source": [
    "# Retrieving the pages\n",
    "redplanet_res = requests.get(redplanet_url)\n",
    "spaceimg_res = requests.get(spaceimg_url)\n",
    "marsfact_res = requests.get(marsfact_url)\n",
    "hemisphere_res = requests.get(hemisphere_url)"
   ]
  },
  {
   "cell_type": "code",
   "execution_count": 4,
   "id": "e7549ccd-e2f3-44ec-8880-6cdbef4543cc",
   "metadata": {},
   "outputs": [],
   "source": [
    "# Creating a beautiful soup object and parsing with html.parser\n",
    "# redplanet_soup = BeautifulSoup(redplanet_res.text, 'html.parser')\n",
    "# spaceimg_soup = BeautifulSoup(spaceimg_res.text, 'html.parser')\n",
    "marsfact_soup = BeautifulSoup(marsfact_res.text, 'html.parser')\n",
    "hemisphere_soup = BeautifulSoup(hemisphere_res.text, 'html.parser')"
   ]
  },
  {
   "cell_type": "code",
   "execution_count": 5,
   "id": "b72852b0-5411-4566-8eab-bcaa57230daa",
   "metadata": {},
   "outputs": [
    {
     "name": "stderr",
     "output_type": "stream",
     "text": [
      "\n",
      "\n",
      "====== WebDriver manager ======\n",
      "Current google-chrome version is 93.0.4577\n",
      "Get LATEST driver version for 93.0.4577\n",
      "Driver [C:\\Users\\pimin\\.wdm\\drivers\\chromedriver\\win32\\93.0.4577.63\\chromedriver.exe] found in cache\n"
     ]
    }
   ],
   "source": [
    "executable_path = {'executable_path': ChromeDriverManager().install()}\n",
    "browser = Browser('chrome', **executable_path, headless=False)"
   ]
  },
  {
   "cell_type": "code",
   "execution_count": 6,
   "id": "fd2b6132-351a-4f7d-917f-8b54b0c3396d",
   "metadata": {},
   "outputs": [
    {
     "name": "stdout",
     "output_type": "stream",
     "text": [
      "NASA's Treasure Map for Water Ice on Mars\n"
     ]
    }
   ],
   "source": [
    "# Retrieve red planet first article title and paragraph\n",
    "browser.visit(redplanet_url)\n",
    "html = browser.html\n",
    "redplanet_soup = BeautifulSoup(html, 'html.parser')\n",
    "redplanet_results = redplanet_soup.find_all('div', class_='list_text')\n",
    "news_title = redplanet_soup.find('div', class_='content_title').text\n",
    "news_p = redplanet_soup.find('div', class_='article_teaser_body').text\n",
    "print(news_title)"
   ]
  },
  {
   "cell_type": "code",
   "execution_count": 7,
   "id": "d06e9110-5510-448c-a8c0-10266e3ea92c",
   "metadata": {},
   "outputs": [
    {
     "name": "stderr",
     "output_type": "stream",
     "text": [
      "\n",
      "\n",
      "====== WebDriver manager ======\n",
      "Current google-chrome version is 93.0.4577\n",
      "Get LATEST driver version for 93.0.4577\n",
      "Driver [C:\\Users\\pimin\\.wdm\\drivers\\chromedriver\\win32\\93.0.4577.63\\chromedriver.exe] found in cache\n"
     ]
    }
   ],
   "source": [
    "# Setting up splinter to find the featured image url\n",
    "executable_path = {'executable_path': ChromeDriverManager().install()}\n",
    "browser = Browser('chrome', **executable_path, headless=False)"
   ]
  },
  {
   "cell_type": "code",
   "execution_count": 8,
   "id": "df17b99a-e48f-43c1-89de-efcce2307af0",
   "metadata": {},
   "outputs": [],
   "source": [
    "# open the website\n",
    "browser.visit(spaceimg_url)"
   ]
  },
  {
   "cell_type": "code",
   "execution_count": 9,
   "id": "243e125e-8dd2-4511-b3c1-5ef51b8c70b5",
   "metadata": {},
   "outputs": [],
   "source": [
    "# Open the featured image\n",
    "browser.links.find_by_partial_href('featured').click()\n",
    "# save the new webpage's html\n",
    "html = browser.html\n",
    "soup = BeautifulSoup(html, 'html.parser')"
   ]
  },
  {
   "cell_type": "code",
   "execution_count": 10,
   "id": "5230ad11-c163-4919-932c-b0c95697df08",
   "metadata": {},
   "outputs": [
    {
     "name": "stdout",
     "output_type": "stream",
     "text": [
      "image/featured/mars1.jpg\n"
     ]
    }
   ],
   "source": [
    "# find featured image extension and add it onto the base html\n",
    "featured_image_result = soup.find_all('img', class_='fancybox-image')\n",
    "featured_image = featured_image_result[0].get('src')\n",
    "print(featured_image)"
   ]
  },
  {
   "cell_type": "code",
   "execution_count": 11,
   "id": "48c92c72-1c7f-4f61-8196-23926ce2b41a",
   "metadata": {},
   "outputs": [
    {
     "data": {
      "text/plain": [
       "[                         0                1                2\n",
       " 0  Mars - Earth Comparison             Mars            Earth\n",
       " 1                Diameter:         6,779 km        12,742 km\n",
       " 2                    Mass:  6.39 × 10^23 kg  5.97 × 10^24 kg\n",
       " 3                   Moons:                2                1\n",
       " 4       Distance from Sun:   227,943,824 km   149,598,262 km\n",
       " 5          Length of Year:   687 Earth days      365.24 days\n",
       " 6             Temperature:     -87 to -5 °C      -88 to 58°C,\n",
       "                       0                              1\n",
       " 0  Equatorial Diameter:                       6,792 km\n",
       " 1       Polar Diameter:                       6,752 km\n",
       " 2                 Mass:  6.39 × 10^23 kg (0.11 Earths)\n",
       " 3                Moons:          2 ( Phobos & Deimos )\n",
       " 4       Orbit Distance:       227,943,824 km (1.38 AU)\n",
       " 5         Orbit Period:           687 days (1.9 years)\n",
       " 6  Surface Temperature:                   -87 to -5 °C\n",
       " 7         First Record:              2nd millennium BC\n",
       " 8          Recorded By:           Egyptian astronomers]"
      ]
     },
     "execution_count": 11,
     "metadata": {},
     "output_type": "execute_result"
    }
   ],
   "source": [
    "# Reading in the \n",
    "tables = pd.read_html(marsfact_url)\n",
    "tables"
   ]
  },
  {
   "cell_type": "code",
   "execution_count": 12,
   "id": "93604a6e-8af3-4086-b1f9-0452562b8f43",
   "metadata": {},
   "outputs": [
    {
     "data": {
      "text/html": [
       "<div>\n",
       "<style scoped>\n",
       "    .dataframe tbody tr th:only-of-type {\n",
       "        vertical-align: middle;\n",
       "    }\n",
       "\n",
       "    .dataframe tbody tr th {\n",
       "        vertical-align: top;\n",
       "    }\n",
       "\n",
       "    .dataframe thead th {\n",
       "        text-align: right;\n",
       "    }\n",
       "</style>\n",
       "<table border=\"1\" class=\"dataframe\">\n",
       "  <thead>\n",
       "    <tr style=\"text-align: right;\">\n",
       "      <th></th>\n",
       "      <th>Value</th>\n",
       "    </tr>\n",
       "    <tr>\n",
       "      <th>Attribute</th>\n",
       "      <th></th>\n",
       "    </tr>\n",
       "  </thead>\n",
       "  <tbody>\n",
       "    <tr>\n",
       "      <th>Equatorial Diameter:</th>\n",
       "      <td>6,792 km</td>\n",
       "    </tr>\n",
       "    <tr>\n",
       "      <th>Polar Diameter:</th>\n",
       "      <td>6,752 km</td>\n",
       "    </tr>\n",
       "    <tr>\n",
       "      <th>Mass:</th>\n",
       "      <td>6.39 × 10^23 kg (0.11 Earths)</td>\n",
       "    </tr>\n",
       "    <tr>\n",
       "      <th>Moons:</th>\n",
       "      <td>2 ( Phobos &amp; Deimos )</td>\n",
       "    </tr>\n",
       "    <tr>\n",
       "      <th>Orbit Distance:</th>\n",
       "      <td>227,943,824 km (1.38 AU)</td>\n",
       "    </tr>\n",
       "    <tr>\n",
       "      <th>Orbit Period:</th>\n",
       "      <td>687 days (1.9 years)</td>\n",
       "    </tr>\n",
       "    <tr>\n",
       "      <th>Surface Temperature:</th>\n",
       "      <td>-87 to -5 °C</td>\n",
       "    </tr>\n",
       "    <tr>\n",
       "      <th>First Record:</th>\n",
       "      <td>2nd millennium BC</td>\n",
       "    </tr>\n",
       "    <tr>\n",
       "      <th>Recorded By:</th>\n",
       "      <td>Egyptian astronomers</td>\n",
       "    </tr>\n",
       "  </tbody>\n",
       "</table>\n",
       "</div>"
      ],
      "text/plain": [
       "                                              Value\n",
       "Attribute                                          \n",
       "Equatorial Diameter:                       6,792 km\n",
       "Polar Diameter:                            6,752 km\n",
       "Mass:                 6.39 × 10^23 kg (0.11 Earths)\n",
       "Moons:                        2 ( Phobos & Deimos )\n",
       "Orbit Distance:            227,943,824 km (1.38 AU)\n",
       "Orbit Period:                  687 days (1.9 years)\n",
       "Surface Temperature:                   -87 to -5 °C\n",
       "First Record:                     2nd millennium BC\n",
       "Recorded By:                   Egyptian astronomers"
      ]
     },
     "execution_count": 12,
     "metadata": {},
     "output_type": "execute_result"
    }
   ],
   "source": [
    "# Saving the second table as a df\n",
    "mars_df = tables[1]\n",
    "mars_df = mars_df.rename(columns={0: 'Attribute', 1: 'Value'})\n",
    "mars_df = mars_df.set_index('Attribute')\n",
    "mars_df"
   ]
  },
  {
   "cell_type": "code",
   "execution_count": null,
   "id": "aaa2d7c8-9237-4b8e-8172-eb8659b65258",
   "metadata": {},
   "outputs": [],
   "source": []
  },
  {
   "cell_type": "code",
   "execution_count": 13,
   "id": "2ca57eb4-45cc-4b67-b968-f5808bd0a447",
   "metadata": {},
   "outputs": [],
   "source": [
    "# find the links to each hemisphere's page\n",
    "links = []\n",
    "response = requests.get(hemisphere_url)\n",
    "hemisphere_soup = BeautifulSoup(response.text, 'html.parser')\n",
    "for link in hemisphere_soup.find_all('a'):\n",
    "    links.append(link.get('href'))\n",
    "hemisphere_links = [links[3],links[5],links[7],links[9]]"
   ]
  },
  {
   "cell_type": "code",
   "execution_count": 14,
   "id": "86e41f73-f56e-463b-bd4f-4c8a6e308c6c",
   "metadata": {},
   "outputs": [],
   "source": [
    "# visit the links and retrieve the image url and title\n",
    "# put the title and image into a dictionary and make a list of these distionaries\n",
    "hemisphere_image_urls = []\n",
    "for link in hemisphere_links:\n",
    "    response = requests.get(hemisphere_url + link)\n",
    "    hemisphere_soup = BeautifulSoup(response.text, 'html.parser')\n",
    "    image = hemisphere_soup.find('img', class_='wide-image')\n",
    "    title = hemisphere_soup.find('h2', class_='title').text\n",
    "    title = title.replace('Enhanced','')\n",
    "    hemisphere_image_urls.append({'title': title, 'img_url': image.get(\"src\")})"
   ]
  },
  {
   "cell_type": "code",
   "execution_count": 15,
   "id": "d1e4c52c-94d5-448c-8060-bcb85f773058",
   "metadata": {},
   "outputs": [
    {
     "data": {
      "text/plain": [
       "{'title': 'Cerberus Hemisphere ',\n",
       " 'img_url': 'images/f5e372a36edfa389625da6d0cc25d905_cerberus_enhanced.tif_full.jpg'}"
      ]
     },
     "execution_count": 15,
     "metadata": {},
     "output_type": "execute_result"
    }
   ],
   "source": [
    "hemisphere_image_urls[0]"
   ]
  },
  {
   "cell_type": "code",
   "execution_count": 17,
   "id": "37588b60-dbf9-4ed9-8a13-e9511fc0cd57",
   "metadata": {},
   "outputs": [],
   "source": [
    "mars_table = mars_df.to_html()"
   ]
  },
  {
   "cell_type": "code",
   "execution_count": 18,
   "id": "3f8816fa-ed37-4ad6-8b74-82da18dd1318",
   "metadata": {},
   "outputs": [],
   "source": [
    "html_dict = { 'title':news_title, 'paragraph':news_p,'f_images':featured_image, 'facts':mars_table, 'hem_urls':hemisphere_image_urls}"
   ]
  },
  {
   "cell_type": "code",
   "execution_count": 21,
   "id": "85370aeb-a8a0-4e46-816d-45862d3e1852",
   "metadata": {},
   "outputs": [
    {
     "data": {
      "text/plain": [
       "{'title': \"NASA's Treasure Map for Water Ice on Mars\",\n",
       " 'paragraph': 'A new study identifies frozen water just below the Martian surface, where astronauts could easily dig it up.',\n",
       " 'f_images': 'image/featured/mars1.jpg',\n",
       " 'facts': '<table border=\"1\" class=\"dataframe\">\\n  <thead>\\n    <tr style=\"text-align: right;\">\\n      <th></th>\\n      <th>Value</th>\\n    </tr>\\n    <tr>\\n      <th>Attribute</th>\\n      <th></th>\\n    </tr>\\n  </thead>\\n  <tbody>\\n    <tr>\\n      <th>Equatorial Diameter:</th>\\n      <td>6,792 km</td>\\n    </tr>\\n    <tr>\\n      <th>Polar Diameter:</th>\\n      <td>6,752 km</td>\\n    </tr>\\n    <tr>\\n      <th>Mass:</th>\\n      <td>6.39 × 10^23 kg (0.11 Earths)</td>\\n    </tr>\\n    <tr>\\n      <th>Moons:</th>\\n      <td>2 ( Phobos &amp; Deimos )</td>\\n    </tr>\\n    <tr>\\n      <th>Orbit Distance:</th>\\n      <td>227,943,824 km (1.38 AU)</td>\\n    </tr>\\n    <tr>\\n      <th>Orbit Period:</th>\\n      <td>687 days (1.9 years)</td>\\n    </tr>\\n    <tr>\\n      <th>Surface Temperature:</th>\\n      <td>-87 to -5 °C</td>\\n    </tr>\\n    <tr>\\n      <th>First Record:</th>\\n      <td>2nd millennium BC</td>\\n    </tr>\\n    <tr>\\n      <th>Recorded By:</th>\\n      <td>Egyptian astronomers</td>\\n    </tr>\\n  </tbody>\\n</table>',\n",
       " 'hem_urls': [{'title': 'Cerberus Hemisphere ',\n",
       "   'img_url': 'images/f5e372a36edfa389625da6d0cc25d905_cerberus_enhanced.tif_full.jpg'},\n",
       "  {'title': 'Schiaparelli Hemisphere ',\n",
       "   'img_url': 'images/3778f7b43bbbc89d6e3cfabb3613ba93_schiaparelli_enhanced.tif_full.jpg'},\n",
       "  {'title': 'Syrtis Major Hemisphere ',\n",
       "   'img_url': 'images/555e6403a6ddd7ba16ddb0e471cadcf7_syrtis_major_enhanced.tif_full.jpg'},\n",
       "  {'title': 'Valles Marineris Hemisphere ',\n",
       "   'img_url': 'images/b3c7c6c9138f57b4756be9b9c43e3a48_valles_marineris_enhanced.tif_full.jpg'}]}"
      ]
     },
     "execution_count": 21,
     "metadata": {},
     "output_type": "execute_result"
    }
   ],
   "source": [
    "html_dict"
   ]
  },
  {
   "cell_type": "code",
   "execution_count": null,
   "id": "5eb7625a-b77a-4adf-aaa7-e0ed6cec682c",
   "metadata": {},
   "outputs": [],
   "source": []
  },
  {
   "cell_type": "code",
   "execution_count": 20,
   "id": "62b9e947-1da2-4951-a64e-072da0e8643c",
   "metadata": {},
   "outputs": [],
   "source": []
  },
  {
   "cell_type": "code",
   "execution_count": null,
   "id": "8eed72c3-b3e3-46e3-b32c-974ee223a2ac",
   "metadata": {},
   "outputs": [],
   "source": []
  },
  {
   "cell_type": "code",
   "execution_count": null,
   "id": "aba9d436-c35a-416f-b37a-4efe3b4fe689",
   "metadata": {},
   "outputs": [],
   "source": []
  },
  {
   "cell_type": "code",
   "execution_count": null,
   "id": "a8e3fa07-b7cc-4257-890a-410849a8cea1",
   "metadata": {},
   "outputs": [],
   "source": []
  }
 ],
 "metadata": {
  "kernelspec": {
   "display_name": "Python 3",
   "language": "python",
   "name": "python3"
  },
  "language_info": {
   "codemirror_mode": {
    "name": "ipython",
    "version": 3
   },
   "file_extension": ".py",
   "mimetype": "text/x-python",
   "name": "python",
   "nbconvert_exporter": "python",
   "pygments_lexer": "ipython3",
   "version": "3.8.8"
  }
 },
 "nbformat": 4,
 "nbformat_minor": 5
}
